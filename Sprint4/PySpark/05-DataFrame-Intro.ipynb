{
 "cells": [
  {
   "cell_type": "code",
   "execution_count": 1,
   "id": "76e8637d-fede-4933-b41b-d55fc9ebb659",
   "metadata": {},
   "outputs": [],
   "source": [
    "# Set the PySpark environment variables\n",
    "import os\n",
    "os.environ['SPARK_HOME'] = \"/home/user5/Downloads/spark\"\n",
    "os.environ['PYSPARK_DRIVER_PYTHON'] = 'jupyter'\n",
    "os.environ['PYSPARK_DRIVER_PYTHON_OPTS'] = 'lab'\n",
    "os.environ['PYSPARK_PYTHON'] = 'python'"
   ]
  },
  {
   "cell_type": "code",
   "execution_count": 2,
   "id": "ce9be673-50e0-49f4-93a3-e64960de7237",
   "metadata": {},
   "outputs": [],
   "source": [
    "from pyspark.sql import SparkSession\n",
    "from pyspark.sql.functions import desc"
   ]
  },
  {
   "cell_type": "code",
   "execution_count": 3,
   "id": "f76663c1-1711-4d97-a736-c3ee4ea7cfa5",
   "metadata": {},
   "outputs": [
    {
     "name": "stderr",
     "output_type": "stream",
     "text": [
      "WARNING: Using incubator modules: jdk.incubator.vector\n",
      "Using Spark's default log4j profile: org/apache/spark/log4j2-defaults.properties\n",
      "25/08/03 09:09:55 WARN Utils: Your hostname, datumlabs-Latitude-5420, resolves to a loopback address: 127.0.1.1; using 192.168.0.102 instead (on interface wlp0s20f3)\n",
      "25/08/03 09:09:55 WARN Utils: Set SPARK_LOCAL_IP if you need to bind to another address\n",
      "Using Spark's default log4j profile: org/apache/spark/log4j2-defaults.properties\n",
      "Setting default log level to \"WARN\".\n",
      "To adjust logging level use sc.setLogLevel(newLevel). For SparkR, use setLogLevel(newLevel).\n",
      "25/08/03 09:09:56 WARN NativeCodeLoader: Unable to load native-hadoop library for your platform... using builtin-java classes where applicable\n"
     ]
    }
   ],
   "source": [
    "# Create a SparkSession\n",
    "spark = SparkSession.builder.appName(\"DataFrame-Demo\").getOrCreate()"
   ]
  },
  {
   "cell_type": "markdown",
   "id": "4c35ebac-a885-4b1a-bac7-50fbe4f9e251",
   "metadata": {},
   "source": [
    "RDDs are low‑level\n",
    "\n",
    "Work with raw Python objects.\n",
    "\n",
    "You have to write manual transformations for everything.\n",
    "\n",
    "No automatic optimization — you decide how to do things.\n",
    "\n"
   ]
  },
  {
   "cell_type": "markdown",
   "id": "e2b898b6-8bda-4085-b333-9d8f8b630d43",
   "metadata": {},
   "source": [
    "DataFrames are high‑level\n",
    "\n",
    "Table‑like → columns have names & types.\n",
    "\n",
    "SQL‑like syntax → easy for people from SQL background.\n",
    "\n",
    "Catalyst Optimizer → Spark figures out the best execution plan for you.\n",
    "\n",
    "Less code, fewer bugs, faster performance"
   ]
  },
  {
   "cell_type": "markdown",
   "id": "0f61db3e-6250-4cbe-9b9a-651ca9debc61",
   "metadata": {},
   "source": [
    "Using RDDs"
   ]
  },
  {
   "cell_type": "code",
   "execution_count": 13,
   "id": "2d685224-158d-4eda-a178-2989f54e6aac",
   "metadata": {},
   "outputs": [],
   "source": [
    "#Word frequency list\n",
    "rdd = spark.sparkContext.textFile(\"data.txt\")\n",
    "result_rdd = rdd.flatMap(lambda line: line.split(\" \")) \\\n",
    "    .map(lambda word: (word, 1)) \\\n",
    "    .reduceByKey(lambda a, b: a + b) \\\n",
    "    .sortBy(lambda x: x[1], ascending=False)\n",
    "\n",
    "#flatMap(lambda line: line.split(\" \")) → Split each line into words (flatten into one list).\n",
    "\n",
    "#map(lambda word: (word, 1)) → Turn each word into a pair (word, 1) for counting.\n",
    "\n",
    "#reduceByKey(lambda a, b: a + b) → Add up the counts for each word.\n",
    "\n",
    "#sortBy(lambda x: x[1], ascending=False) → Sort words by count, highest first.\n",
    "\n"
   ]
  },
  {
   "cell_type": "code",
   "execution_count": 14,
   "id": "0a6aaaf2-6fe4-426c-8b01-5efddab7c047",
   "metadata": {},
   "outputs": [
    {
     "data": {
      "text/plain": [
       "[('the', 12),\n",
       " ('of', 7),\n",
       " ('a', 7),\n",
       " ('distributed', 5),\n",
       " ('in', 5),\n",
       " ('Spark', 4),\n",
       " ('as', 3),\n",
       " ('is', 3),\n",
       " ('API', 3),\n",
       " ('on', 3)]"
      ]
     },
     "execution_count": 14,
     "metadata": {},
     "output_type": "execute_result"
    }
   ],
   "source": [
    "result_rdd.take(10)"
   ]
  },
  {
   "cell_type": "markdown",
   "id": "ce333b6b-a97b-47fc-a968-893cf21d4597",
   "metadata": {},
   "source": [
    "DF k sath"
   ]
  },
  {
   "cell_type": "code",
   "execution_count": 11,
   "id": "4f3e4f0c-5112-4483-afe4-5153b1f401f1",
   "metadata": {},
   "outputs": [],
   "source": [
    "df = spark.read.text(\"data.txt\")\n",
    "\n",
    "result_df = df.selectExpr(\"explode(split(value, ' ')) as word\") \\\n",
    "    .groupBy(\"word\").count().orderBy(desc(\"count\"))\n",
    "\n",
    "#split(value, ' ') → splits each line into an array of words.\n",
    "#explode(...) → turns each word in the array into its own row."
   ]
  },
  {
   "cell_type": "code",
   "execution_count": 12,
   "id": "d618da14-8a93-4561-bdf7-47282679b063",
   "metadata": {},
   "outputs": [
    {
     "data": {
      "text/plain": [
       "[Row(word='the', count=12),\n",
       " Row(word='of', count=7),\n",
       " Row(word='a', count=7),\n",
       " Row(word='in', count=5),\n",
       " Row(word='distributed', count=5),\n",
       " Row(word='Spark', count=4),\n",
       " Row(word='API', count=3),\n",
       " Row(word='RDD', count=3),\n",
       " Row(word='is', count=3),\n",
       " Row(word='on', count=3)]"
      ]
     },
     "execution_count": 12,
     "metadata": {},
     "output_type": "execute_result"
    }
   ],
   "source": [
    "result_df.take(10)"
   ]
  },
  {
   "cell_type": "code",
   "execution_count": null,
   "id": "ba806a61-7c66-409a-bc3f-8f61fd4bf396",
   "metadata": {},
   "outputs": [],
   "source": [
    "spark.stop()\n"
   ]
  }
 ],
 "metadata": {
  "kernelspec": {
   "display_name": "Python 3 (ipykernel)",
   "language": "python",
   "name": "python3"
  },
  "language_info": {
   "codemirror_mode": {
    "name": "ipython",
    "version": 3
   },
   "file_extension": ".py",
   "mimetype": "text/x-python",
   "name": "python",
   "nbconvert_exporter": "python",
   "pygments_lexer": "ipython3",
   "version": "3.12.3"
  }
 },
 "nbformat": 4,
 "nbformat_minor": 5
}
