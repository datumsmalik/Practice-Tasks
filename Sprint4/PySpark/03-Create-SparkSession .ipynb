{
 "cells": [
  {
   "cell_type": "code",
   "execution_count": 1,
   "id": "74ebc238-139f-460d-b7e9-8cbee3855739",
   "metadata": {},
   "outputs": [],
   "source": [
    "# Set the PySpark environment variables\n",
    "import os\n",
    "os.environ['SPARK_HOME'] = \"/home/user5/Downloads/spark\"\n",
    "os.environ['PYSPARK_DRIVER_PYTHON'] = 'jupyter'\n",
    "os.environ['PYSPARK_DRIVER_PYTHON_OPTS'] = 'lab'\n",
    "os.environ['PYSPARK_PYTHON'] = 'python'"
   ]
  },
  {
   "cell_type": "markdown",
   "id": "2660a13a-6efb-4961-981c-87d52aa7e1dc",
   "metadata": {},
   "source": [
    "A SparkSession is like the main door to Spark — you go through it to do anything in Spark (read data, run SQL, create RDDs/DataFrames).\n",
    "\n",
    "Without opening that “door,” Spark won’t let you in."
   ]
  },
  {
   "cell_type": "markdown",
   "id": "c333aa80-80a9-4b90-b9ad-b991adc9e294",
   "metadata": {},
   "source": [
    "Create SparkSession in Apache Spark"
   ]
  },
  {
   "cell_type": "code",
   "execution_count": 16,
   "id": "7bf1f3d1-46ab-42b5-abc3-d60d8474c702",
   "metadata": {},
   "outputs": [],
   "source": [
    "from pyspark.sql import SparkSession\n",
    "\n",
    "# Create a SparkSession\n",
    "spark = SparkSession.builder \\\n",
    "    .appName(\"MySparkApplication\") \\\n",
    "    .config(\"spark.executor.memory\", \"2g\") \\\n",
    "    .config(\"spark.sql.shuffle.partitions\", \"4\") \\\n",
    "    .getOrCreate()\n",
    "\n",
    "#Shuffling = Spark moving data across different computers (or cores) so it’s grouped or joined correctly.\n",
    "#After Spark moves (shuffles) the data, it splits it into partitions for processing by default 200 partitions hoti hain so ham ne 4 chucnks me divide kia he\n",
    "\n",
    "\n",
    "\n",
    "\n",
    "#.builder → “Tell Spark how you want things set up.”\n",
    "\n",
    "#appName → Name of your Spark job (shown in Spark UI/logs).\n",
    "\n",
    "#spark.executor.memory → Memory per worker process (e.g., \"2g\" = 2 GB).\n",
    "\n",
    "#spark.sql.shuffle.partitions → Number of partitions for shuffle operations (smaller for local testing like hamne 4 rakhe hain).\n",
    "\n",
    "#getOrCreate() → Reuse existing SparkSession or create a new one (prevents Jupyter errors).\n",
    "\n"
   ]
  },
  {
   "cell_type": "code",
   "execution_count": 17,
   "id": "82e078f6-798f-4c2e-889f-b403e70e4791",
   "metadata": {},
   "outputs": [
    {
     "data": {
      "text/html": [
       "\n",
       "            <div>\n",
       "                <p><b>SparkSession - in-memory</b></p>\n",
       "                \n",
       "        <div>\n",
       "            <p><b>SparkContext</b></p>\n",
       "\n",
       "            <p><a href=\"http://DESKTOP-2AVH847.localdomain:4042\">Spark UI</a></p>\n",
       "\n",
       "            <dl>\n",
       "              <dt>Version</dt>\n",
       "                <dd><code>v4.0.0</code></dd>\n",
       "              <dt>Master</dt>\n",
       "                <dd><code>local[*]</code></dd>\n",
       "              <dt>AppName</dt>\n",
       "                <dd><code>MySparkApplication</code></dd>\n",
       "            </dl>\n",
       "        </div>\n",
       "        \n",
       "            </div>\n",
       "        "
      ],
      "text/plain": [
       "<pyspark.sql.session.SparkSession at 0x7f70968d04a0>"
      ]
     },
     "execution_count": 17,
     "metadata": {},
     "output_type": "execute_result"
    }
   ],
   "source": [
    "# Perform operations using the SparkSession\n",
    "spark"
   ]
  },
  {
   "cell_type": "code",
   "execution_count": null,
   "id": "aac5d148-e476-49e2-8c93-a50909111bf2",
   "metadata": {},
   "outputs": [],
   "source": [
    "# Shut down the current active SparkSession\n",
    "spark.stop()"
   ]
  }
 ],
 "metadata": {
  "kernelspec": {
   "display_name": "Python 3 (ipykernel)",
   "language": "python",
   "name": "python3"
  },
  "language_info": {
   "codemirror_mode": {
    "name": "ipython",
    "version": 3
   },
   "file_extension": ".py",
   "mimetype": "text/x-python",
   "name": "python",
   "nbconvert_exporter": "python",
   "pygments_lexer": "ipython3",
   "version": "3.12.3"
  }
 },
 "nbformat": 4,
 "nbformat_minor": 5
}
